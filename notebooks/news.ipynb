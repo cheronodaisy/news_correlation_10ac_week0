{
  "nbformat": 4,
  "nbformat_minor": 0,
  "metadata": {
    "colab": {
      "provenance": []
    },
    "kernelspec": {
      "name": "python3",
      "display_name": "Python 3"
    },
    "language_info": {
      "name": "python"
    }
  },
  "cells": [
    {
      "cell_type": "code",
      "execution_count": 4,
      "metadata": {
        "colab": {
          "base_uri": "https://localhost:8080/"
        },
        "id": "ruUwtZ4GsNYx",
        "outputId": "d5d00f67-c598-42a8-915d-9cc61830e3f8"
      },
      "outputs": [
        {
          "output_type": "stream",
          "name": "stdout",
          "text": [
            "Mounted at /content/drive\n"
          ]
        }
      ],
      "source": [
        "from google.colab import drive\n",
        "drive.mount( \"/content/drive\")"
      ]
    },
    {
      "cell_type": "code",
      "source": [
        "import pandas as pd\n",
        "import seaborn as sns\n",
        "import matplotlib.pyplot as plt"
      ],
      "metadata": {
        "id": "vITHa1gG9wmW"
      },
      "execution_count": 5,
      "outputs": []
    },
    {
      "cell_type": "code",
      "source": [
        "df = pd.read_csv('drive/MyDrive/data/rating.csv')\n",
        "news_df = pd.read_csv('drive/MyDrive/data/raw_data/data.csv')\n",
        "traffic_df = pd.read_csv('drive/MyDrive/data/traffic_data/traffic.csv')\n",
        "domains_location = pd.read_csv('drive/MyDrive/data/domains_location.csv')"
      ],
      "metadata": {
        "id": "6PFhwZD8-U3J"
      },
      "execution_count": 6,
      "outputs": []
    },
    {
      "cell_type": "code",
      "source": [
        "# Merge datasets based on common keys\n",
        "merged_data = pd.merge(news_df, domains_location, left_on=\"source_name\", right_on=\"SourceCommonName\", how=\"left\")\n",
        "merged_data = pd.merge(merged_data, traffic_df, left_on=\"source_name\", right_on=\"Domain\", how=\"left\")"
      ],
      "metadata": {
        "id": "VddWn8Yi37yc"
      },
      "execution_count": 9,
      "outputs": []
    },
    {
      "cell_type": "code",
      "source": [
        "top_10_articles_count = merged_data.groupby('source_name').size().nlargest(10)\n",
        "bottom_10_articles_count = merged_data.groupby('source_name').size().nsmallest(10)\n",
        "\n",
        "print('Top 10 websites:', top_10_articles_count)\n",
        "print('Bottom 10 websites:', bottom_10_articles_count)"
      ],
      "metadata": {
        "colab": {
          "base_uri": "https://localhost:8080/"
        },
        "id": "4JGioCbv54-a",
        "outputId": "463f748e-14ae-44ef-d277-f8e62fd37698"
      },
      "execution_count": 11,
      "outputs": [
        {
          "output_type": "stream",
          "name": "stdout",
          "text": [
            "Top 10 websites: source_name\n",
            "ETF Daily News        16631\n",
            "The Times of India     7629\n",
            "GlobeNewswire          5485\n",
            "Forbes                 4423\n",
            "Biztoc.com             3968\n",
            "BBC News               3342\n",
            "Globalsecurity.org     3093\n",
            "Business Insider       2746\n",
            "ABC News               2188\n",
            "Marketscreener.com     1948\n",
            "dtype: int64\n",
            "Bottom 10 websites: source_name\n",
            "1000wordphilosophy.com    1\n",
            "148apps.com               1\n",
            "1a3orn.com                1\n",
            "2000ad.com                1\n",
            "2dopeboyz.com             1\n",
            "2paxfly.com               1\n",
            "3dnchu.com                1\n",
            "3quarksdaily.com          1\n",
            "43rumors.com              1\n",
            "71toes.com                1\n",
            "dtype: int64\n"
          ]
        }
      ]
    },
    {
      "cell_type": "code",
      "source": [
        "top_10_traffic = merged_data.groupby('source_name')['GlobalRank'].mean().nlargest(10)\n",
        "print('Websites with the highest traffic:', top_10_traffic)"
      ],
      "metadata": {
        "colab": {
          "base_uri": "https://localhost:8080/"
        },
        "id": "r4YUK3kW6vXF",
        "outputId": "5aeedb63-8f23-40ff-dfa0-34fa6323a2c6"
      },
      "execution_count": 12,
      "outputs": [
        {
          "output_type": "stream",
          "name": "stdout",
          "text": [
            "Websites with the highest traffic: source_name\n",
            "9to5chic.com              662946.0\n",
            "1000wordphilosophy.com    446304.0\n",
            "2000ad.com                279008.0\n",
            "43rumors.com              205937.0\n",
            "pitpass.com               171990.0\n",
            "2dopeboyz.com             143915.0\n",
            "2chblog.jp                134659.0\n",
            "8thlight.com               82691.0\n",
            "tomandlorenzo.com          76402.0\n",
            "3quarksdaily.com           53975.0\n",
            "Name: GlobalRank, dtype: float64\n"
          ]
        }
      ]
    },
    {
      "cell_type": "code",
      "source": [
        "countries_media_orgs = domains_location['Country'].value_counts().nlargest(10)\n",
        "print('Countries with the highest number of media orgs:', countries_media_orgs)"
      ],
      "metadata": {
        "colab": {
          "base_uri": "https://localhost:8080/"
        },
        "id": "skukWtcE7DM0",
        "outputId": "a409ddcd-a09b-4298-b13c-30d1c08b466c"
      },
      "execution_count": 14,
      "outputs": [
        {
          "output_type": "stream",
          "name": "stdout",
          "text": [
            "Countries with the highest number of media orgs: Country\n",
            "United States     14111\n",
            "United Kingdom     1950\n",
            "Italy              1810\n",
            "France             1041\n",
            "Russia             1024\n",
            "Canada              887\n",
            "Germany             884\n",
            "China               780\n",
            "Turkey              725\n",
            "India               686\n",
            "Name: count, dtype: int64\n"
          ]
        }
      ]
    },
    {
      "cell_type": "code",
      "source": [
        "countries_articles = merged_data['Country'].value_counts().nlargest(10)\n",
        "print('Countries with Many Articles Written About Them:', countries_articles)"
      ],
      "metadata": {
        "colab": {
          "base_uri": "https://localhost:8080/"
        },
        "id": "idK3ImZj7eg_",
        "outputId": "4fa05736-6264-4005-af3d-dc2643624de4"
      },
      "execution_count": 15,
      "outputs": [
        {
          "output_type": "stream",
          "name": "stdout",
          "text": [
            "Countries with Many Articles Written About Them: Country\n",
            "United States    321\n",
            "Russia            31\n",
            "Australia          4\n",
            "France             4\n",
            "Name: count, dtype: int64\n"
          ]
        }
      ]
    },
    {
      "cell_type": "code",
      "source": [
        "specific_continent = ['Africa', 'US', 'China', 'EU', 'Russia', 'Ukraine', 'Middle East']\n",
        "websites_reporting = merged_data[merged_data['Country'].isin(specific_continent)]['source_name'].value_counts()\n",
        "print('Websites that reported continents:', websites_reporting)"
      ],
      "metadata": {
        "colab": {
          "base_uri": "https://localhost:8080/"
        },
        "id": "6jZbVufj75L1",
        "outputId": "18586077-787a-4b82-a0b2-e1d6bf7bb9aa"
      },
      "execution_count": 17,
      "outputs": [
        {
          "output_type": "stream",
          "name": "stdout",
          "text": [
            "Websites that reported continents: source_name\n",
            "3dnews.ru    31\n",
            "Name: count, dtype: int64\n"
          ]
        }
      ]
    },
    {
      "cell_type": "code",
      "source": [
        "print(merged_data.head())"
      ],
      "metadata": {
        "colab": {
          "base_uri": "https://localhost:8080/"
        },
        "id": "Pr2G7nHL9Smc",
        "outputId": "f9bade65-e38a-4080-b4b8-9351c83add61"
      },
      "execution_count": 19,
      "outputs": [
        {
          "output_type": "stream",
          "name": "stdout",
          "text": [
            "   article_id source_id                   source_name  \\\n",
            "0       89541       NaN  International Business Times   \n",
            "1       89542       NaN                    Prtimes.jp   \n",
            "2       89543       NaN                      VOA News   \n",
            "3       89545       NaN            The Indian Express   \n",
            "4       89547       NaN           The Times of Israel   \n",
            "\n",
            "                                       author  \\\n",
            "0                              Paavan MATHEMA   \n",
            "1                                         NaN   \n",
            "2  webdesk@voanews.com (Agence France-Presse)   \n",
            "3                                   Editorial   \n",
            "4                                 Jacob Magid   \n",
            "\n",
            "                                               title  \\\n",
            "0  UN Chief Urges World To 'Stop The Madness' Of ...   \n",
            "1              RANDEBOOよりワンランク上の大人っぽさが漂うニットとベストが新登場。   \n",
            "2  UN Chief Urges World to 'Stop the Madness' of ...   \n",
            "3  Sikkim warning: Hydroelectricity push must be ...   \n",
            "4  200 foreigners, dual nationals cut down in Ham...   \n",
            "\n",
            "                                         description  \\\n",
            "0  UN Secretary-General Antonio Guterres urged th...   \n",
            "1  [株式会社Ainer]\\nRANDEBOO（ランデブー）では2023年7月18日(火)より公...   \n",
            "2  UN Secretary-General Antonio Guterres urged th...   \n",
            "3  Ecologists caution against the adverse effects...   \n",
            "4  France lost 35 citizens, Thailand 33, US 31, U...   \n",
            "\n",
            "                                                 url  \\\n",
            "0  https://www.ibtimes.com/un-chief-urges-world-s...   \n",
            "1  https://prtimes.jp/main/html/rd/p/000000147.00...   \n",
            "2  https://www.voanews.com/a/un-chief-urges-world...   \n",
            "3  https://indianexpress.com/article/opinion/edit...   \n",
            "4  https://www.timesofisrael.com/200-foreigners-d...   \n",
            "\n",
            "                                        url_to_image  \\\n",
            "0  https://d.ibtimes.com/en/full/4496078/nepals-g...   \n",
            "1  https://prtimes.jp/i/32220/147/ogp/d32220-147-...   \n",
            "2  https://gdb.voanews.com/01000000-0a00-0242-60f...   \n",
            "3  https://images.indianexpress.com/2023/10/edit-...   \n",
            "4  https://static.timesofisrael.com/www/uploads/2...   \n",
            "\n",
            "                 published_at  \\\n",
            "0  2023-10-30 10:12:35.000000   \n",
            "1  2023-10-06 04:40:02.000000   \n",
            "2  2023-10-30 10:53:30.000000   \n",
            "3  2023-10-06 01:20:24.000000   \n",
            "4  2023-10-27 01:08:34.000000   \n",
            "\n",
            "                                             content  ... Domain  TLD  \\\n",
            "0  UN Secretary-General Antonio Guterres urged th...  ...    NaN  NaN   \n",
            "1  RANDEBOO2023718()WEB2023 Autumn Winter \\n\"Nepa...  ...    NaN  NaN   \n",
            "2  Kathmandu, Nepal  UN Secretary-General Antonio...  ...    NaN  NaN   \n",
            "3  At least 14 persons lost their lives and more ...  ...    NaN  NaN   \n",
            "4  Scores of foreign citizens were killed, taken ...  ...    NaN  NaN   \n",
            "\n",
            "  RefSubNets RefIPs IDN_Domain  IDN_TLD  PrevGlobalRank PrevTldRank  \\\n",
            "0        NaN    NaN        NaN      NaN             NaN         NaN   \n",
            "1        NaN    NaN        NaN      NaN             NaN         NaN   \n",
            "2        NaN    NaN        NaN      NaN             NaN         NaN   \n",
            "3        NaN    NaN        NaN      NaN             NaN         NaN   \n",
            "4        NaN    NaN        NaN      NaN             NaN         NaN   \n",
            "\n",
            "  PrevRefSubNets  PrevRefIPs  \n",
            "0            NaN         NaN  \n",
            "1            NaN         NaN  \n",
            "2            NaN         NaN  \n",
            "3            NaN         NaN  \n",
            "4            NaN         NaN  \n",
            "\n",
            "[5 rows x 27 columns]\n"
          ]
        }
      ]
    },
    {
      "cell_type": "code",
      "source": [
        "df.head()"
      ],
      "metadata": {
        "colab": {
          "base_uri": "https://localhost:8080/",
          "height": 608
        },
        "id": "OpyK5HEFuicF",
        "outputId": "e4cf9c87-e155-48a7-8ca2-8d3574a6682e"
      },
      "execution_count": null,
      "outputs": [
        {
          "output_type": "execute_result",
          "data": {
            "text/plain": [
              "   article_id source_id     source_name  \\\n",
              "0       81664       NaN          Forbes   \n",
              "1       81667       NaN             CNA   \n",
              "2       81694      time            Time   \n",
              "3       81695       NaN        Phys.Org   \n",
              "4       81703       NaN  Digital Trends   \n",
              "\n",
              "                                              author  \\\n",
              "0  Elizabeth Brownfield, Contributor, \\n Elizabet...   \n",
              "1                                                NaN   \n",
              "2                              Christina Larson / AP   \n",
              "3                                       Sara Schmidt   \n",
              "4                                       Jason Struss   \n",
              "\n",
              "                                               title  \\\n",
              "0  superstar chef yannick alléno brings refined f...   \n",
              "1  nice claim top spot in ligue 1 with late win a...   \n",
              "2  amphibians are the world’s most vulnerable spe...   \n",
              "3              image: rusty red waters in madagascar   \n",
              "4  everything leaving max (formerly hbo max) in n...   \n",
              "\n",
              "                                         description  \\\n",
              "0  Now open in Mayfair at Four Seasons Hotel Lond...   \n",
              "1  Nice moved into provisional first place in the...   \n",
              "2  The world’s frogs, salamanders, newts, and oth...   \n",
              "3  Iron-rich sediment colors the red-orange water...   \n",
              "4  From Gangs of London to Fear the Walking Dead ...   \n",
              "\n",
              "                                                 url  \\\n",
              "0  https://www.forbes.com/sites/elizabethbrownfie...   \n",
              "1  https://www.channelnewsasia.com/sport/nice-cla...   \n",
              "2  https://time.com/6320467/amphibians-most-vulne...   \n",
              "3  https://phys.org/news/2023-10-image-rusty-red-...   \n",
              "4  https://www.digitaltrends.com/movies/everythin...   \n",
              "\n",
              "                                        url_to_image  \\\n",
              "0  https://imageio.forbes.com/specials-images/ima...   \n",
              "1  https://onecms-res.cloudinary.com/image/upload...   \n",
              "2  https://api.time.com/wp-content/uploads/2023/1...   \n",
              "3  https://scx2.b-cdn.net/gfx/news/2023/image-rus...   \n",
              "4  https://www.digitaltrends.com/wp-content/uploa...   \n",
              "\n",
              "                 published_at  \\\n",
              "0  2023-11-01 03:27:21.000000   \n",
              "1  2023-10-27 21:28:48.000000   \n",
              "2  2023-10-04 17:36:18.000000   \n",
              "3  2023-10-31 18:04:02.000000   \n",
              "4  2023-10-23 23:09:18.000000   \n",
              "\n",
              "                                             content    category  \\\n",
              "0  Pavyllon London, at Four Seasons Hotel London ...      Monaco   \n",
              "1  Nice moved into provisional first place in the...      Monaco   \n",
              "2  The worlds frogs, salamanders, newts and other...  Madagascar   \n",
              "3  Iron-rich sediment colors the red-orange water...  Madagascar   \n",
              "4  Everything ends. No, I’m not having an existen...  Madagascar   \n",
              "\n",
              "                                             article title_sentiment  \n",
              "0  pavyllon london, at four seasons hotel london ...         Neutral  \n",
              "1  nice moved into provisional first place in the...        Positive  \n",
              "2  the world’s frogs, salamanders, newts and othe...        Negative  \n",
              "3  iron-rich sediment colors the red-orange water...         Neutral  \n",
              "4  everything ends. no, i’m not having an existen...         Neutral  "
            ],
            "text/html": [
              "\n",
              "  <div id=\"df-f67837cb-6966-4290-850e-c2ad0efa1542\" class=\"colab-df-container\">\n",
              "    <div>\n",
              "<style scoped>\n",
              "    .dataframe tbody tr th:only-of-type {\n",
              "        vertical-align: middle;\n",
              "    }\n",
              "\n",
              "    .dataframe tbody tr th {\n",
              "        vertical-align: top;\n",
              "    }\n",
              "\n",
              "    .dataframe thead th {\n",
              "        text-align: right;\n",
              "    }\n",
              "</style>\n",
              "<table border=\"1\" class=\"dataframe\">\n",
              "  <thead>\n",
              "    <tr style=\"text-align: right;\">\n",
              "      <th></th>\n",
              "      <th>article_id</th>\n",
              "      <th>source_id</th>\n",
              "      <th>source_name</th>\n",
              "      <th>author</th>\n",
              "      <th>title</th>\n",
              "      <th>description</th>\n",
              "      <th>url</th>\n",
              "      <th>url_to_image</th>\n",
              "      <th>published_at</th>\n",
              "      <th>content</th>\n",
              "      <th>category</th>\n",
              "      <th>article</th>\n",
              "      <th>title_sentiment</th>\n",
              "    </tr>\n",
              "  </thead>\n",
              "  <tbody>\n",
              "    <tr>\n",
              "      <th>0</th>\n",
              "      <td>81664</td>\n",
              "      <td>NaN</td>\n",
              "      <td>Forbes</td>\n",
              "      <td>Elizabeth Brownfield, Contributor, \\n Elizabet...</td>\n",
              "      <td>superstar chef yannick alléno brings refined f...</td>\n",
              "      <td>Now open in Mayfair at Four Seasons Hotel Lond...</td>\n",
              "      <td>https://www.forbes.com/sites/elizabethbrownfie...</td>\n",
              "      <td>https://imageio.forbes.com/specials-images/ima...</td>\n",
              "      <td>2023-11-01 03:27:21.000000</td>\n",
              "      <td>Pavyllon London, at Four Seasons Hotel London ...</td>\n",
              "      <td>Monaco</td>\n",
              "      <td>pavyllon london, at four seasons hotel london ...</td>\n",
              "      <td>Neutral</td>\n",
              "    </tr>\n",
              "    <tr>\n",
              "      <th>1</th>\n",
              "      <td>81667</td>\n",
              "      <td>NaN</td>\n",
              "      <td>CNA</td>\n",
              "      <td>NaN</td>\n",
              "      <td>nice claim top spot in ligue 1 with late win a...</td>\n",
              "      <td>Nice moved into provisional first place in the...</td>\n",
              "      <td>https://www.channelnewsasia.com/sport/nice-cla...</td>\n",
              "      <td>https://onecms-res.cloudinary.com/image/upload...</td>\n",
              "      <td>2023-10-27 21:28:48.000000</td>\n",
              "      <td>Nice moved into provisional first place in the...</td>\n",
              "      <td>Monaco</td>\n",
              "      <td>nice moved into provisional first place in the...</td>\n",
              "      <td>Positive</td>\n",
              "    </tr>\n",
              "    <tr>\n",
              "      <th>2</th>\n",
              "      <td>81694</td>\n",
              "      <td>time</td>\n",
              "      <td>Time</td>\n",
              "      <td>Christina Larson / AP</td>\n",
              "      <td>amphibians are the world’s most vulnerable spe...</td>\n",
              "      <td>The world’s frogs, salamanders, newts, and oth...</td>\n",
              "      <td>https://time.com/6320467/amphibians-most-vulne...</td>\n",
              "      <td>https://api.time.com/wp-content/uploads/2023/1...</td>\n",
              "      <td>2023-10-04 17:36:18.000000</td>\n",
              "      <td>The worlds frogs, salamanders, newts and other...</td>\n",
              "      <td>Madagascar</td>\n",
              "      <td>the world’s frogs, salamanders, newts and othe...</td>\n",
              "      <td>Negative</td>\n",
              "    </tr>\n",
              "    <tr>\n",
              "      <th>3</th>\n",
              "      <td>81695</td>\n",
              "      <td>NaN</td>\n",
              "      <td>Phys.Org</td>\n",
              "      <td>Sara Schmidt</td>\n",
              "      <td>image: rusty red waters in madagascar</td>\n",
              "      <td>Iron-rich sediment colors the red-orange water...</td>\n",
              "      <td>https://phys.org/news/2023-10-image-rusty-red-...</td>\n",
              "      <td>https://scx2.b-cdn.net/gfx/news/2023/image-rus...</td>\n",
              "      <td>2023-10-31 18:04:02.000000</td>\n",
              "      <td>Iron-rich sediment colors the red-orange water...</td>\n",
              "      <td>Madagascar</td>\n",
              "      <td>iron-rich sediment colors the red-orange water...</td>\n",
              "      <td>Neutral</td>\n",
              "    </tr>\n",
              "    <tr>\n",
              "      <th>4</th>\n",
              "      <td>81703</td>\n",
              "      <td>NaN</td>\n",
              "      <td>Digital Trends</td>\n",
              "      <td>Jason Struss</td>\n",
              "      <td>everything leaving max (formerly hbo max) in n...</td>\n",
              "      <td>From Gangs of London to Fear the Walking Dead ...</td>\n",
              "      <td>https://www.digitaltrends.com/movies/everythin...</td>\n",
              "      <td>https://www.digitaltrends.com/wp-content/uploa...</td>\n",
              "      <td>2023-10-23 23:09:18.000000</td>\n",
              "      <td>Everything ends. No, I’m not having an existen...</td>\n",
              "      <td>Madagascar</td>\n",
              "      <td>everything ends. no, i’m not having an existen...</td>\n",
              "      <td>Neutral</td>\n",
              "    </tr>\n",
              "  </tbody>\n",
              "</table>\n",
              "</div>\n",
              "    <div class=\"colab-df-buttons\">\n",
              "\n",
              "  <div class=\"colab-df-container\">\n",
              "    <button class=\"colab-df-convert\" onclick=\"convertToInteractive('df-f67837cb-6966-4290-850e-c2ad0efa1542')\"\n",
              "            title=\"Convert this dataframe to an interactive table.\"\n",
              "            style=\"display:none;\">\n",
              "\n",
              "  <svg xmlns=\"http://www.w3.org/2000/svg\" height=\"24px\" viewBox=\"0 -960 960 960\">\n",
              "    <path d=\"M120-120v-720h720v720H120Zm60-500h600v-160H180v160Zm220 220h160v-160H400v160Zm0 220h160v-160H400v160ZM180-400h160v-160H180v160Zm440 0h160v-160H620v160ZM180-180h160v-160H180v160Zm440 0h160v-160H620v160Z\"/>\n",
              "  </svg>\n",
              "    </button>\n",
              "\n",
              "  <style>\n",
              "    .colab-df-container {\n",
              "      display:flex;\n",
              "      gap: 12px;\n",
              "    }\n",
              "\n",
              "    .colab-df-convert {\n",
              "      background-color: #E8F0FE;\n",
              "      border: none;\n",
              "      border-radius: 50%;\n",
              "      cursor: pointer;\n",
              "      display: none;\n",
              "      fill: #1967D2;\n",
              "      height: 32px;\n",
              "      padding: 0 0 0 0;\n",
              "      width: 32px;\n",
              "    }\n",
              "\n",
              "    .colab-df-convert:hover {\n",
              "      background-color: #E2EBFA;\n",
              "      box-shadow: 0px 1px 2px rgba(60, 64, 67, 0.3), 0px 1px 3px 1px rgba(60, 64, 67, 0.15);\n",
              "      fill: #174EA6;\n",
              "    }\n",
              "\n",
              "    .colab-df-buttons div {\n",
              "      margin-bottom: 4px;\n",
              "    }\n",
              "\n",
              "    [theme=dark] .colab-df-convert {\n",
              "      background-color: #3B4455;\n",
              "      fill: #D2E3FC;\n",
              "    }\n",
              "\n",
              "    [theme=dark] .colab-df-convert:hover {\n",
              "      background-color: #434B5C;\n",
              "      box-shadow: 0px 1px 3px 1px rgba(0, 0, 0, 0.15);\n",
              "      filter: drop-shadow(0px 1px 2px rgba(0, 0, 0, 0.3));\n",
              "      fill: #FFFFFF;\n",
              "    }\n",
              "  </style>\n",
              "\n",
              "    <script>\n",
              "      const buttonEl =\n",
              "        document.querySelector('#df-f67837cb-6966-4290-850e-c2ad0efa1542 button.colab-df-convert');\n",
              "      buttonEl.style.display =\n",
              "        google.colab.kernel.accessAllowed ? 'block' : 'none';\n",
              "\n",
              "      async function convertToInteractive(key) {\n",
              "        const element = document.querySelector('#df-f67837cb-6966-4290-850e-c2ad0efa1542');\n",
              "        const dataTable =\n",
              "          await google.colab.kernel.invokeFunction('convertToInteractive',\n",
              "                                                    [key], {});\n",
              "        if (!dataTable) return;\n",
              "\n",
              "        const docLinkHtml = 'Like what you see? Visit the ' +\n",
              "          '<a target=\"_blank\" href=https://colab.research.google.com/notebooks/data_table.ipynb>data table notebook</a>'\n",
              "          + ' to learn more about interactive tables.';\n",
              "        element.innerHTML = '';\n",
              "        dataTable['output_type'] = 'display_data';\n",
              "        await google.colab.output.renderOutput(dataTable, element);\n",
              "        const docLink = document.createElement('div');\n",
              "        docLink.innerHTML = docLinkHtml;\n",
              "        element.appendChild(docLink);\n",
              "      }\n",
              "    </script>\n",
              "  </div>\n",
              "\n",
              "\n",
              "<div id=\"df-9bb3490e-3558-4693-9c6a-9dc99822b788\">\n",
              "  <button class=\"colab-df-quickchart\" onclick=\"quickchart('df-9bb3490e-3558-4693-9c6a-9dc99822b788')\"\n",
              "            title=\"Suggest charts\"\n",
              "            style=\"display:none;\">\n",
              "\n",
              "<svg xmlns=\"http://www.w3.org/2000/svg\" height=\"24px\"viewBox=\"0 0 24 24\"\n",
              "     width=\"24px\">\n",
              "    <g>\n",
              "        <path d=\"M19 3H5c-1.1 0-2 .9-2 2v14c0 1.1.9 2 2 2h14c1.1 0 2-.9 2-2V5c0-1.1-.9-2-2-2zM9 17H7v-7h2v7zm4 0h-2V7h2v10zm4 0h-2v-4h2v4z\"/>\n",
              "    </g>\n",
              "</svg>\n",
              "  </button>\n",
              "\n",
              "<style>\n",
              "  .colab-df-quickchart {\n",
              "      --bg-color: #E8F0FE;\n",
              "      --fill-color: #1967D2;\n",
              "      --hover-bg-color: #E2EBFA;\n",
              "      --hover-fill-color: #174EA6;\n",
              "      --disabled-fill-color: #AAA;\n",
              "      --disabled-bg-color: #DDD;\n",
              "  }\n",
              "\n",
              "  [theme=dark] .colab-df-quickchart {\n",
              "      --bg-color: #3B4455;\n",
              "      --fill-color: #D2E3FC;\n",
              "      --hover-bg-color: #434B5C;\n",
              "      --hover-fill-color: #FFFFFF;\n",
              "      --disabled-bg-color: #3B4455;\n",
              "      --disabled-fill-color: #666;\n",
              "  }\n",
              "\n",
              "  .colab-df-quickchart {\n",
              "    background-color: var(--bg-color);\n",
              "    border: none;\n",
              "    border-radius: 50%;\n",
              "    cursor: pointer;\n",
              "    display: none;\n",
              "    fill: var(--fill-color);\n",
              "    height: 32px;\n",
              "    padding: 0;\n",
              "    width: 32px;\n",
              "  }\n",
              "\n",
              "  .colab-df-quickchart:hover {\n",
              "    background-color: var(--hover-bg-color);\n",
              "    box-shadow: 0 1px 2px rgba(60, 64, 67, 0.3), 0 1px 3px 1px rgba(60, 64, 67, 0.15);\n",
              "    fill: var(--button-hover-fill-color);\n",
              "  }\n",
              "\n",
              "  .colab-df-quickchart-complete:disabled,\n",
              "  .colab-df-quickchart-complete:disabled:hover {\n",
              "    background-color: var(--disabled-bg-color);\n",
              "    fill: var(--disabled-fill-color);\n",
              "    box-shadow: none;\n",
              "  }\n",
              "\n",
              "  .colab-df-spinner {\n",
              "    border: 2px solid var(--fill-color);\n",
              "    border-color: transparent;\n",
              "    border-bottom-color: var(--fill-color);\n",
              "    animation:\n",
              "      spin 1s steps(1) infinite;\n",
              "  }\n",
              "\n",
              "  @keyframes spin {\n",
              "    0% {\n",
              "      border-color: transparent;\n",
              "      border-bottom-color: var(--fill-color);\n",
              "      border-left-color: var(--fill-color);\n",
              "    }\n",
              "    20% {\n",
              "      border-color: transparent;\n",
              "      border-left-color: var(--fill-color);\n",
              "      border-top-color: var(--fill-color);\n",
              "    }\n",
              "    30% {\n",
              "      border-color: transparent;\n",
              "      border-left-color: var(--fill-color);\n",
              "      border-top-color: var(--fill-color);\n",
              "      border-right-color: var(--fill-color);\n",
              "    }\n",
              "    40% {\n",
              "      border-color: transparent;\n",
              "      border-right-color: var(--fill-color);\n",
              "      border-top-color: var(--fill-color);\n",
              "    }\n",
              "    60% {\n",
              "      border-color: transparent;\n",
              "      border-right-color: var(--fill-color);\n",
              "    }\n",
              "    80% {\n",
              "      border-color: transparent;\n",
              "      border-right-color: var(--fill-color);\n",
              "      border-bottom-color: var(--fill-color);\n",
              "    }\n",
              "    90% {\n",
              "      border-color: transparent;\n",
              "      border-bottom-color: var(--fill-color);\n",
              "    }\n",
              "  }\n",
              "</style>\n",
              "\n",
              "  <script>\n",
              "    async function quickchart(key) {\n",
              "      const quickchartButtonEl =\n",
              "        document.querySelector('#' + key + ' button');\n",
              "      quickchartButtonEl.disabled = true;  // To prevent multiple clicks.\n",
              "      quickchartButtonEl.classList.add('colab-df-spinner');\n",
              "      try {\n",
              "        const charts = await google.colab.kernel.invokeFunction(\n",
              "            'suggestCharts', [key], {});\n",
              "      } catch (error) {\n",
              "        console.error('Error during call to suggestCharts:', error);\n",
              "      }\n",
              "      quickchartButtonEl.classList.remove('colab-df-spinner');\n",
              "      quickchartButtonEl.classList.add('colab-df-quickchart-complete');\n",
              "    }\n",
              "    (() => {\n",
              "      let quickchartButtonEl =\n",
              "        document.querySelector('#df-9bb3490e-3558-4693-9c6a-9dc99822b788 button');\n",
              "      quickchartButtonEl.style.display =\n",
              "        google.colab.kernel.accessAllowed ? 'block' : 'none';\n",
              "    })();\n",
              "  </script>\n",
              "</div>\n",
              "\n",
              "    </div>\n",
              "  </div>\n"
            ],
            "application/vnd.google.colaboratory.intrinsic+json": {
              "type": "dataframe",
              "variable_name": "df",
              "summary": "{\n  \"name\": \"df\",\n  \"rows\": 58356,\n  \"fields\": [\n    {\n      \"column\": \"article_id\",\n      \"properties\": {\n        \"dtype\": \"number\",\n        \"std\": 216023,\n        \"min\": 418,\n        \"max\": 781308,\n        \"num_unique_values\": 54583,\n        \"samples\": [\n          145373,\n          248908,\n          181244\n        ],\n        \"semantic_type\": \"\",\n        \"description\": \"\"\n      }\n    },\n    {\n      \"column\": \"source_id\",\n      \"properties\": {\n        \"dtype\": \"category\",\n        \"num_unique_values\": 10,\n        \"samples\": [\n          \"wired\",\n          \"al-jazeera-english\",\n          \"the-times-of-india\"\n        ],\n        \"semantic_type\": \"\",\n        \"description\": \"\"\n      }\n    },\n    {\n      \"column\": \"source_name\",\n      \"properties\": {\n        \"dtype\": \"category\",\n        \"num_unique_values\": 29,\n        \"samples\": [\n          \"ReadWrite\",\n          \"Marketscreener.com\",\n          \"The Indian Express\"\n        ],\n        \"semantic_type\": \"\",\n        \"description\": \"\"\n      }\n    },\n    {\n      \"column\": \"author\",\n      \"properties\": {\n        \"dtype\": \"category\",\n        \"num_unique_values\": 7553,\n        \"samples\": [\n          \"Diana Blaine\",\n          \"Miguel Perez\",\n          \"Beam Global\"\n        ],\n        \"semantic_type\": \"\",\n        \"description\": \"\"\n      }\n    },\n    {\n      \"column\": \"title\",\n      \"properties\": {\n        \"dtype\": \"string\",\n        \"num_unique_values\": 53454,\n        \"samples\": [\n          \"singaporeans should avoid all travel to gaza strip, west bank amid attacks on israel: mfa\",\n          \"codere online to release financial results for the third quarter 2023 on november 15\",\n          \"delhi\\u2019s nursery primary branch to hold art exhibition and competition for students\"\n        ],\n        \"semantic_type\": \"\",\n        \"description\": \"\"\n      }\n    },\n    {\n      \"column\": \"description\",\n      \"properties\": {\n        \"dtype\": \"string\",\n        \"num_unique_values\": 53165,\n        \"samples\": [\n          \"Europe News: ROME: Italy and Slovenia are committed to restore free border circulation as soon as conditions will allow to do so, Italian prime minister Giorgia Me.\",\n          \"The Senate President, GodsWill Akpabio, was on Friday elected into the Executive Committee of the Inter-Parliamentary Union. Akpabio\\u2019s election is said to come 59 years after a Nigerian was elected into the body in 1964. The Inter-Parliamentary Union is the g\\u2026\",\n          \"ClearOne (NASDAQ:CLRO \\u2013 Get Free Report) and Franklin Wireless (NASDAQ:FKWL \\u2013 Get Free Report) are both small-cap computer and technology companies, but which is the superior investment? We will contrast the two businesses based on the strength of their earni\\u2026\"\n        ],\n        \"semantic_type\": \"\",\n        \"description\": \"\"\n      }\n    },\n    {\n      \"column\": \"url\",\n      \"properties\": {\n        \"dtype\": \"string\",\n        \"num_unique_values\": 54583,\n        \"samples\": [\n          \"https://abcnews.go.com/US/wireStory/officials-average-gazan-living-pieces-bread-day-people-104623729\",\n          \"https://www.etfdailynews.com/2023/11/10/research-analysts-recent-ratings-changes-for-enerplus-erf/\",\n          \"https://economictimes.indiatimes.com/news/science/curiosity-rover-completes-4000-days-on-mars-nasa/articleshow/105044379.cms\"\n        ],\n        \"semantic_type\": \"\",\n        \"description\": \"\"\n      }\n    },\n    {\n      \"column\": \"url_to_image\",\n      \"properties\": {\n        \"dtype\": \"string\",\n        \"num_unique_values\": 34903,\n        \"samples\": [\n          \"https://img.etimg.com/thumb/msid-105598725,width-1200,height-630,imgsize-37978,overlay-economictimes/photo.jpg\",\n          \"https://ichef.bbci.co.uk/news/1024/branded_news/EC76/production/_131643506_adam_neumann_getty.jpg\",\n          \"https://img.etimg.com/thumb/msid-105306215,width-1200,height-630,imgsize-1559332,overlay-etwealth/photo.jpg\"\n        ],\n        \"semantic_type\": \"\",\n        \"description\": \"\"\n      }\n    },\n    {\n      \"column\": \"published_at\",\n      \"properties\": {\n        \"dtype\": \"string\",\n        \"num_unique_values\": 41387,\n        \"samples\": [\n          \"2023-11-19 03:24:40\",\n          \"2023-10-21 10:06:13.000000\",\n          \"2023-11-04 09:48:23\"\n        ],\n        \"semantic_type\": \"\",\n        \"description\": \"\"\n      }\n    },\n    {\n      \"column\": \"content\",\n      \"properties\": {\n        \"dtype\": \"string\",\n        \"num_unique_values\": 52174,\n        \"samples\": [\n          \"Tucker Carlson.Scott Olson/Getty Images\\n<ul>\\n<li>Tucker Carlson sent an email to his staff after his ousting from Fox News, a new book says.\\u00a0</li>\\n<li>\\\"I've never worked with better people in my lif\\u2026 [+2358 chars]\",\n          \"The ground beneath New York City is sinking and rising across different areas, new research shows. The sinking has contributed to worsening flood risks, including at sporting arenas, roadways, and a \\u2026 [+3019 chars]\",\n          \"JP Morgan chief executive Jamie Dimon has warned the world may be facing \\\"the most dangerous time in decades\\\".\\nConflicts in Ukraine and Israel could hit energy and food prices, and global trade, the\\u2026 [+873 chars]\"\n        ],\n        \"semantic_type\": \"\",\n        \"description\": \"\"\n      }\n    },\n    {\n      \"column\": \"category\",\n      \"properties\": {\n        \"dtype\": \"category\",\n        \"num_unique_values\": 256,\n        \"samples\": [\n          \"Greece\",\n          \"Nicaragua\",\n          \"Cryptocurrency\"\n        ],\n        \"semantic_type\": \"\",\n        \"description\": \"\"\n      }\n    },\n    {\n      \"column\": \"article\",\n      \"properties\": {\n        \"dtype\": \"string\",\n        \"num_unique_values\": 54148,\n        \"samples\": [\n          \"MEXICO CITY and ROCHELLE PARK, N.J., Nov.  27, 2023  (GLOBE NEWSWIRE) --ZRG, a New Jersey-based global talent advisory firm, has established a new office in Mexico City, located in the U.S. Green Building Council LEED Platinum-certified Torre Virreyes Building in theLomas de Chapultepec. Following successful expansion in Middle East, South America, Europe, the UK, and Australia, the new office of ZRG Partners Mexico SRL de CV is positioned to deliver their tech-enabled analytic suite of talent management solutions to clients with operations in this very important market. \\u201cMexico is the biggest trading partner of the United States,\\u201d said Nate Frank, President ZRG Executive Search Division. \\u201cAs of July 2023, Mexico was the source of 15% of U.S. imports, compared to 14.6% from China, and comprises a growing share of U.S. imports in many manufacturing sectors where ZRG has strong relationships, such as the Automotive, Machinery, and Medical Devices industries.\\u201d \\u201cMexico\\u2019s own market expansion has also been driving growing demand for our Financial, Professional Services & Technology, and Education Practices,\\u201d Frank added. ZRG brings to Mexico an expanded service offering including Organizational Culture Assessment, Consulting and transformation through itsWalking the Talkdivision. Their Brimstone Consulting division further adds leadership alignment and acceleration, bringing clients an end-to-end talent solution. The company also serves clients in over two dozen industry and functional practices, including media, sports and entertainment powerhouses,TurnkeyZRGandSucherman Group. The office will be led by Managing Director Pablo Perella-Berdun and Senior Advisor Hugo Lara. Perella-Berdun has 5 years in Executive Search and Talent Development in Mexico and previously enjoyed a 27-year corporate career in Consumer, Medical Device, Hygiene & Safety Products, and Specialty Chemicals, including Kimberly-Clark where he led local, regional, and global roles for over 20 years. Prior to joining ZRG, Hugo Lara was a Senior Client Partner, Industrial and Advisory leader, as well as the Office Managing Director at Korn Ferry. Previously, he held senior management roles at Mexichem (now Orbia), Vitro, Parmalat, S.C. Johnson, and Grupo Christianson. In addition, he has participated in several associations and boards, including the Board of Regal Forest, Quality Post,Union de Cr\\u00e9dito para la Contadur\\u00eda P\\u00fablica, Grupo Prez, Cervecer\\u00eda Centro Americana, Endeavor, and theNuevo LeonState Board of Clusters. He is also the co-founder of The Morphing Group LLC, a business transformation advisory firm. About ZRGZRGis a global talent advisory firm that is changing the way companies hire and manage talent. ZRG\\u2019s data-driven approach to executive and professional search has been changing the way clients think about how to find top talent. The company\\u2019s digitalZi platformcombines talent intelligence, candidate insights, and process improvement to dramatically deliver executive searches quicker and with proven better results. Today, with the help of private equity investorRFE Investment Partners, ZRG is among the fastest growing firms in the search industry and provides a full suite of retained search, on-demand talent, and consulting and advisory solutions across the Americas, Asia, Europe, and Australia. Contact: John Mooney, Over The Moon PR, (908) 720-6057,john@overthemoonpr.com\",\n          \"CAE (NYSE:CAE\\u2013Get Free Report) (TSE:CAE)was downgraded by equities researchers atBank of Americafrom a \\u201cneutral\\u201d rating to an \\u201cunderperform\\u201d rating in a research report issued on Wednesday,MarketBeatreports. Other research analysts also recently issued research reports about the company. TD Securities raised their price target on CAE from $37.00 to $39.00 and gave the stock a \\u201cbuy\\u201d rating in a research note on Thursday, August 10th. Royal Bank of Canada lowered their target price on CAE from $37.00 to $34.00 and set an \\u201coutperform\\u201d rating on the stock in a research note on Wednesday, November 15th. The Goldman Sachs Group upped their price target on CAE from $27.00 to $30.00 and gave the stock a \\u201cbuy\\u201d rating in a research note on Thursday, August 10th. Finally,StockNews.comupgraded shares of CAE from a \\u201chold\\u201d rating to a \\u201cbuy\\u201d rating in a research note on Tuesday, November 21st. One analyst has rated the stock with a sell rating and five have assigned a buy rating to the company\\u2019s stock. According to MarketBeat, the stock presently has a consensus rating of \\u201cModerate Buy\\u201d and an average price target of $35.43. View Our Latest Research Report on CAE Want More Great Investing Ideas?10 Stocks to Sell NOW!3 Stocks to DOUBLE This YearThe 10 Best Stocks to Own in 20237 Stocks to Buy and Hold ForeverShares ofNYSE:CAEopened at $20.50 on Wednesday. The company has a market cap of $6.52 billion, a PE ratio of 29.71, a P/E/G ratio of 1.64 and a beta of 1.68. The company has a current ratio of 0.94, a quick ratio of 0.67 and a debt-to-equity ratio of 0.62. The company\\u2019s 50 day moving average is $21.91 and its two-hundred day moving average is $22.29. CAE has a 52 week low of $18.74 and a 52 week high of $25.04. Hedge funds have recently bought and sold shares of the company. Mackenzie Financial Corp boosted its holdings in shares of CAE by 29.9% during the second quarter. Mackenzie Financial Corp now owns 31,960,441 shares of the aerospace company\\u2019s stock worth $715,244,000 after purchasing an additional 7,363,625 shares during the last quarter. Beutel Goodman & Co Ltd. boosted its stake in CAE by 0.7% in the 2nd quarter. Beutel Goodman & Co Ltd. now owns 12,081,091 shares of the aerospace company\\u2019s stock worth $270,700,000 after buying an additional 80,220 shares during the last quarter. Royal Bank of Canada grew its holdings in CAE by 1.3% in the 2nd quarter. Royal Bank of Canada now owns 10,034,952 shares of the aerospace company\\u2019s stock valued at $224,583,000 after buying an additional 128,457 shares during the period. Vanguard Group Inc. increased its stake in shares of CAE by 3.1% during the 3rd quarter. Vanguard Group Inc. now owns 10,006,409 shares of the aerospace company\\u2019s stock valued at $153,398,000 after acquiring an additional 300,523 shares during the last quarter. Finally, FMR LLC lifted its holdings in shares of CAE by 2.6% during the 3rd quarter. FMR LLC now owns 9,004,271 shares of the aerospace company\\u2019s stock worth $210,216,000 after acquiring an additional 230,912 shares during the period. Institutional investors and hedge funds own 64.34% of the company\\u2019s stock. (Get Free Report) CAE Inc, together with its subsidiaries, provides simulation training and critical operations support solutions in Canada, the United States, the United Kingdom, Europe, Asia, Oceania and Africa, and Rest of Americas. It operates through three segments: Civil Aviation, Defense and Security, and Healthcare.   \",\n          \"new research emphasizes the previously underestimated significance of atmospheric on aerosol depositions on ecosystems. additionally, the ecological effects of on aerosol depositions are anticipated to increase due to global warming and the decrease in nitrogen oxide emissions from human activities.the study was led by dr. yumin li of southern university of science and technology (sustech), in collaboration with professor tzung-may fu's team at sustech and professor jian zhen yu's team at hong kong university of science and technology (hkust).  the research ispublishedin the journalnational science review.atmospheric deposition of organic nitrogen (on) plays a crucial role in theglobal nitrogen cycle. surface measurements showed that 2% to 70% of the local atmospheric deposition flux of total nitrogen was organic. however, previous models have largely neglected the spatial and chemical variations of atmospheric on, leading to inadequate assessment of its global impacts.the scientists from sustech and hkust developed a comprehensive global model of atmospheric gaseous and particulate on, incorporating the latest knowledge on emissions and secondary formations. their simulated surface concentrations of atmospheric particulate on (onp) were highly consistent with global observations, a feat that had not been achieved previously. in addition, their simulated atmospheric deposition flux aligned with global observations within an order of magnitude.the scientists estimated that the global atmospheric on deposition was 26 tg n yr-1. this majority of this deposition (23 tg n yr-1) occurred in the form of on aerosol and accounted for 19% of the global atmospheric total n deposition (124 tg n yr-1). the main sources of on aerosols were wildfires, ocean emissions, and secondary formation.\\\"our simulation showed that the deposition of on aerosol from the atmosphere is a crucial external source of nitrogen to nitrogen-limited ecosystems worldwide, such as theboreal forests, tundras, and the arctic ocean,\\\" fu says.in a future warming climate, wildfires will likely become more frequent and intense. climate warming will also lead to surface ocean stratification, making atmospheric on deposition an increasingly important source of nitrogen to these ecosystems. \\\"we need to further examine the environmental impacts of atmospheric on aerosol and how those impacts respond toclimate change.\\\"\"\n        ],\n        \"semantic_type\": \"\",\n        \"description\": \"\"\n      }\n    },\n    {\n      \"column\": \"title_sentiment\",\n      \"properties\": {\n        \"dtype\": \"category\",\n        \"num_unique_values\": 3,\n        \"samples\": [\n          \"Neutral\",\n          \"Positive\",\n          \"Negative\"\n        ],\n        \"semantic_type\": \"\",\n        \"description\": \"\"\n      }\n    }\n  ]\n}"
            }
          },
          "metadata": {},
          "execution_count": 10
        }
      ]
    },
    {
      "cell_type": "code",
      "source": [
        "df.info()"
      ],
      "metadata": {
        "colab": {
          "base_uri": "https://localhost:8080/"
        },
        "id": "rpHvLk_9urQb",
        "outputId": "c4247a76-548b-4bd2-f3d5-6c928df5342b"
      },
      "execution_count": null,
      "outputs": [
        {
          "output_type": "stream",
          "name": "stdout",
          "text": [
            "<class 'pandas.core.frame.DataFrame'>\n",
            "RangeIndex: 58356 entries, 0 to 58355\n",
            "Data columns (total 13 columns):\n",
            " #   Column           Non-Null Count  Dtype \n",
            "---  ------           --------------  ----- \n",
            " 0   article_id       58356 non-null  int64 \n",
            " 1   source_id        17771 non-null  object\n",
            " 2   source_name      58356 non-null  object\n",
            " 3   author           56193 non-null  object\n",
            " 4   title            58356 non-null  object\n",
            " 5   description      58346 non-null  object\n",
            " 6   url              58356 non-null  object\n",
            " 7   url_to_image     54905 non-null  object\n",
            " 8   published_at     58356 non-null  object\n",
            " 9   content          58356 non-null  object\n",
            " 10  category         58335 non-null  object\n",
            " 11  article          58356 non-null  object\n",
            " 12  title_sentiment  58356 non-null  object\n",
            "dtypes: int64(1), object(12)\n",
            "memory usage: 5.8+ MB\n"
          ]
        }
      ]
    },
    {
      "cell_type": "code",
      "source": [
        "df.isnull().sum()"
      ],
      "metadata": {
        "colab": {
          "base_uri": "https://localhost:8080/"
        },
        "id": "gsFHGKhGzDAy",
        "outputId": "3d33b245-e3a6-4506-da6b-3760155da910"
      },
      "execution_count": null,
      "outputs": [
        {
          "output_type": "execute_result",
          "data": {
            "text/plain": [
              "article_id             0\n",
              "source_id          40585\n",
              "source_name            0\n",
              "author              2163\n",
              "title                  0\n",
              "description           10\n",
              "url                    0\n",
              "url_to_image        3451\n",
              "published_at           0\n",
              "content                0\n",
              "category              21\n",
              "article                0\n",
              "title_sentiment        0\n",
              "dtype: int64"
            ]
          },
          "metadata": {},
          "execution_count": 12
        }
      ]
    },
    {
      "cell_type": "code",
      "source": [
        "df['category'].unique()"
      ],
      "metadata": {
        "colab": {
          "base_uri": "https://localhost:8080/"
        },
        "id": "0fLQwlhxzJR8",
        "outputId": "42a73a3a-234c-49aa-d5a8-4c6245fe66cd"
      },
      "execution_count": null,
      "outputs": [
        {
          "output_type": "execute_result",
          "data": {
            "text/plain": [
              "array(['Monaco', 'Madagascar', 'Mexico', 'Maldives', 'Mali', 'Barbados',\n",
              "       'Nicaragua', 'Congo, The Democratic Republic of the',\n",
              "       'North Macedonia', 'Malta', 'Poland', 'Myanmar',\n",
              "       'Russian Federation', 'Mongolia', 'Montenegro', 'Malaysia',\n",
              "       'Romania', 'Mozambique', 'Montserrat', 'South Sudan', 'News',\n",
              "       'Israel', 'Mauritania', 'Mauritius', 'Netherlands', 'Martinique',\n",
              "       'Malawi', 'Germany', 'Niger', 'Namibia', 'Nigeria', 'Georgia',\n",
              "       'Nepal', 'Facebook', 'Norway', 'COVID', 'Peru', 'Travel',\n",
              "       'History', 'Papua New Guinea', 'New Zealand', 'Sports', 'Oman',\n",
              "       'Pakistan', 'Panama', 'Love', 'America', 'Philippines', 'Palau',\n",
              "       'Politics', 'Armenia', 'Food', 'Sudan', 'Puerto Rico', 'Weather',\n",
              "       'Real estate', 'Cars', 'Senegal', 'Singapore', 'Stock', 'Ghana',\n",
              "       'TikTok', 'Photography', 'Kazakhstan', 'Games', 'Climate', 'Space',\n",
              "       'Somalia', 'Tonga', 'Architecture', 'Art', 'Africa',\n",
              "       'Relationships', 'Qatar', 'world', 'Beauty', 'Podcasts', 'Yoga',\n",
              "       'Coding', 'Cryptocurrency', 'Nutrition', 'Design',\n",
              "       'Sustainability', 'Blockchain', 'Startups',\n",
              "       'Artificial Intelligence', 'Motivation', 'Hiking', 'Productivity',\n",
              "       'Health', 'Philosophy', 'Europe', 'Serbia', 'Google', 'YouTube',\n",
              "       'Amazon', 'Jobs', 'Movies', 'Music', 'Technology', 'Sweden',\n",
              "       'Bitcoin', 'Finance', 'Fashion', 'Instagram', 'Fitness', 'Science',\n",
              "       'Education', 'Home', nan, 'Asia', 'Portugal', 'Paraguay', 'Pets',\n",
              "       'Palestine, State of', 'Rwanda', 'Saudi Arabia', 'Sierra Leone',\n",
              "       'El Salvador', 'San Marino', 'Suriname', 'Slovakia', 'Ukraine',\n",
              "       'Slovenia', 'Seychelles', 'Tunisia', 'United States', 'Turkey',\n",
              "       'Taiwan, Province of China', 'Uganda', 'Uruguay', 'Uzbekistan',\n",
              "       'Yemen', 'Samoa', 'Virgin Islands, U.S.', 'Viet Nam', 'Vanuatu',\n",
              "       'South Africa', 'Zambia', 'Zimbabwe', 'Thailand', 'Tajikistan',\n",
              "       'Chad', 'Turkmenistan', 'Recipes', 'Austria', 'DIY', 'Psychology',\n",
              "       'Virtual Reality', 'Australia', 'Meditation', 'Gardening', 'Vegan',\n",
              "       'Parenting', 'Anime', 'Mindfulness', 'Bangladesh', 'Djibouti',\n",
              "       'Entrepreneurship', 'Azerbaijan', 'Belarus', 'Lithuania', 'Poetry',\n",
              "       'Happiness', 'Canada', 'Minimalism', 'Astronomy', 'Guam',\n",
              "       'Afghanistan', 'Aruba', 'United Arab Emirates', 'Angola',\n",
              "       'Andorra', 'Albania', 'Hungary', 'Guernsey', 'Antarctica',\n",
              "       'Argentina', 'Switzerland', 'Haiti', 'Burundi', 'Belgium', 'China',\n",
              "       'Benin', 'Iraq', 'Burkina Faso', 'Latvia', 'Bulgaria', 'Bahrain',\n",
              "       'Bahamas', 'Bosnia and Herzegovina', 'Botswana', 'Belize',\n",
              "       'Brazil', 'Bermuda', 'Central African Republic', 'Cyprus',\n",
              "       'Bhutan', 'Chile', \"Côte d'Ivoire\", 'Cameroon', 'Congo',\n",
              "       'Colombia', 'Christmas Island', 'Cabo Verde', 'Costa Rica', 'Cuba',\n",
              "       'Cayman Islands', 'Denmark', 'Egypt', 'Dominican Republic',\n",
              "       'Kenya', 'Algeria', 'Eritrea', 'Ecuador', 'Iceland', 'Spain',\n",
              "       'Estonia', 'Ethiopia', 'Finland', 'Fiji', 'France', 'Gabon',\n",
              "       'Cambodia', 'Libya', 'United Kingdom', 'Gibraltar', 'Guinea',\n",
              "       'Gambia', 'Greece', 'Iran, Islamic Republic of', 'Guatemala',\n",
              "       'Greenland', 'India', 'Guyana', 'Hong Kong', 'Luxembourg',\n",
              "       'Honduras', 'Croatia', 'Indonesia', 'Isle of Man', 'Ireland',\n",
              "       'Jersey', 'Italy', 'Jamaica', 'Jordan', 'Kyrgyzstan', 'Japan',\n",
              "       'Korea, Republic of', 'Lebanon', 'Kuwait', 'Liberia',\n",
              "       'Liechtenstein', 'Sri Lanka', 'Morocco', 'Macao', 'Réunion'],\n",
              "      dtype=object)"
            ]
          },
          "metadata": {},
          "execution_count": 13
        }
      ]
    },
    {
      "cell_type": "code",
      "source": [
        "df['category'].value_counts()"
      ],
      "metadata": {
        "colab": {
          "base_uri": "https://localhost:8080/"
        },
        "id": "sMBSNY52zSSS",
        "outputId": "6d70676a-4bb4-44cb-beea-b327f9978e8c"
      },
      "execution_count": null,
      "outputs": [
        {
          "output_type": "execute_result",
          "data": {
            "text/plain": [
              "category\n",
              "Stock          3687\n",
              "Canada         2066\n",
              "Health         2046\n",
              "Real estate    2030\n",
              "Technology     1993\n",
              "               ... \n",
              "Burundi           3\n",
              "Cabo Verde        3\n",
              "Honduras          3\n",
              "Martinique        2\n",
              "Réunion           2\n",
              "Name: count, Length: 256, dtype: int64"
            ]
          },
          "metadata": {},
          "execution_count": 14
        }
      ]
    },
    {
      "cell_type": "code",
      "source": [
        "df['title_length'] = df['title'].apply(lambda x: len(str(x)))\n",
        "df['content_length'] = df['content'].apply(lambda x: len(str(x)))"
      ],
      "metadata": {
        "id": "vCtjxFAwzb_s"
      },
      "execution_count": null,
      "outputs": []
    },
    {
      "cell_type": "code",
      "source": [
        "df['title_length'].describe()"
      ],
      "metadata": {
        "colab": {
          "base_uri": "https://localhost:8080/"
        },
        "id": "4JJvCZ1x0Fvv",
        "outputId": "824c2542-ea56-4a7c-a1df-016fac86bc5f"
      },
      "execution_count": null,
      "outputs": [
        {
          "output_type": "execute_result",
          "data": {
            "text/plain": [
              "count    58356.000000\n",
              "mean        76.767033\n",
              "std         26.009651\n",
              "min         12.000000\n",
              "25%         60.000000\n",
              "50%         73.000000\n",
              "75%         89.000000\n",
              "max        326.000000\n",
              "Name: title_length, dtype: float64"
            ]
          },
          "metadata": {},
          "execution_count": 16
        }
      ]
    },
    {
      "cell_type": "code",
      "source": [
        "df['content_length'].describe()"
      ],
      "metadata": {
        "colab": {
          "base_uri": "https://localhost:8080/"
        },
        "id": "X56pc-U10Rw6",
        "outputId": "97e70715-e6dc-4732-88aa-bb5a0df9cb9f"
      },
      "execution_count": null,
      "outputs": [
        {
          "output_type": "execute_result",
          "data": {
            "text/plain": [
              "count    58356.000000\n",
              "mean       207.838920\n",
              "std         28.566682\n",
              "min         25.000000\n",
              "25%        213.000000\n",
              "50%        214.000000\n",
              "75%        214.000000\n",
              "max        216.000000\n",
              "Name: content_length, dtype: float64"
            ]
          },
          "metadata": {},
          "execution_count": 21
        }
      ]
    },
    {
      "cell_type": "code",
      "source": [
        "df['title_sentiment'].describe()"
      ],
      "metadata": {
        "colab": {
          "base_uri": "https://localhost:8080/"
        },
        "id": "o1nqf7WO0e9X",
        "outputId": "ab5de8e9-caf4-4334-f8a9-b680d163d3c8"
      },
      "execution_count": null,
      "outputs": [
        {
          "output_type": "execute_result",
          "data": {
            "text/plain": [
              "count       58356\n",
              "unique          3\n",
              "top       Neutral\n",
              "freq        42926\n",
              "Name: title_sentiment, dtype: object"
            ]
          },
          "metadata": {},
          "execution_count": 18
        }
      ]
    },
    {
      "cell_type": "code",
      "source": [
        "df['title_sentiment'].value_counts()"
      ],
      "metadata": {
        "colab": {
          "base_uri": "https://localhost:8080/"
        },
        "id": "q4FLvWuh0pLy",
        "outputId": "ec2dc83e-7cc3-4b77-9483-978088131c1c"
      },
      "execution_count": null,
      "outputs": [
        {
          "output_type": "execute_result",
          "data": {
            "text/plain": [
              "title_sentiment\n",
              "Neutral     42926\n",
              "Negative     9133\n",
              "Positive     6297\n",
              "Name: count, dtype: int64"
            ]
          },
          "metadata": {},
          "execution_count": 19
        }
      ]
    },
    {
      "cell_type": "code",
      "source": [
        "#visualization\n",
        "import matplotlib.pyplot as plt\n",
        "import seaborn as sns\n",
        "\n",
        "#bar chart\n",
        "plt.figure(figsize=(8, 6))\n",
        "sns.countplot(data=df, x='title_sentiment')\n",
        "plt.title('Sentiment Counts')\n",
        "plt.xlabel('Sentiment')\n",
        "plt.ylabel('Count')\n",
        "plt.show()"
      ],
      "metadata": {
        "colab": {
          "base_uri": "https://localhost:8080/",
          "height": 564
        },
        "id": "o4kLvfwQ0y7i",
        "outputId": "b5cccb01-a2cb-4e67-8092-9c46e0f633c5"
      },
      "execution_count": null,
      "outputs": [
        {
          "output_type": "display_data",
          "data": {
            "text/plain": [
              "<Figure size 800x600 with 1 Axes>"
            ],
            "image/png": "[encoded data removed]"
          },
          "metadata": {}
        }
      ]
    },
    {
      "cell_type": "code",
      "source": [
        "# scatter plot of content length vs sentiment\n",
        "plt.figure(figsize=(8, 6))\n",
        "sns.scatterplot(data=df, x='content_length', y='title_sentiment')\n",
        "plt.title('Content Length vs Sentiment')\n",
        "plt.xlabel('Content Length')\n",
        "plt.ylabel('Sentiment')\n",
        "plt.grid(True)\n",
        "plt.show()"
      ],
      "metadata": {
        "colab": {
          "base_uri": "https://localhost:8080/",
          "height": 564
        },
        "id": "tKY1ghOkEs5a",
        "outputId": "197b4ec5-e70a-4869-a3d0-90cd260a37fc"
      },
      "execution_count": null,
      "outputs": [
        {
          "output_type": "display_data",
          "data": {
            "text/plain": [
              "<Figure size 800x600 with 1 Axes>"
            ],
            "image/png": "[encoded data removed]"
          },
          "metadata": {}
        }
      ]
    }
  ]
}